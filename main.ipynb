{
 "cells": [
  {
   "cell_type": "code",
   "execution_count": 47,
   "metadata": {},
   "outputs": [],
   "source": [
    "import numpy as np\n",
    "import matplotlib.pyplot as plt"
   ]
  },
  {
   "cell_type": "code",
   "execution_count": 48,
   "metadata": {},
   "outputs": [],
   "source": [
    "# Activation function: Sigmoid with clipping to prevent overflow\n",
    "def sigmoid(x):\n",
    "    return 1 / (1 + np.exp(-np.clip(x, -500, 500)))\n",
    "\n",
    "# Derivative of Sigmoid\n",
    "def sigmoid_derivative(x):\n",
    "    return x * (1 - x)\n",
    "\n",
    "# Neural Network class with 2 hidden layers\n",
    "class NeuralNetwork:\n",
    "    def __init__(self, input_size, hidden1_size, hidden2_size, output_size):\n",
    "        # Initialize weights and biases\n",
    "        self.weights_input_hidden1 = 2 * np.random.rand(input_size, hidden1_size) - 1\n",
    "        self.bias_hidden1 = 2 * np.random.rand(hidden1_size) - 1\n",
    "        self.weights_hidden1_hidden2 = 2 * np.random.rand(hidden1_size, hidden2_size) - 1\n",
    "        self.bias_hidden2 = 2 * np.random.rand(hidden2_size) - 1\n",
    "        self.weights_hidden2_output = 2 * np.random.rand(hidden2_size, output_size) - 1\n",
    "        self.bias_output = 2 * np.random.rand(output_size) - 1\n",
    "\n",
    "    def forward(self, inputs):\n",
    "        # Forward propagation\n",
    "        self.hidden1_input = np.dot(inputs, self.weights_input_hidden1) + self.bias_hidden1\n",
    "        self.hidden1_output = sigmoid(self.hidden1_input)\n",
    "        self.hidden2_input = np.dot(self.hidden1_output, self.weights_hidden1_hidden2) + self.bias_hidden2\n",
    "        self.hidden2_output = sigmoid(self.hidden2_input)\n",
    "        self.output_layer_input = np.dot(self.hidden2_output, self.weights_hidden2_output) + self.bias_output\n",
    "        self.output = sigmoid(self.output_layer_input)\n",
    "        return self.output\n",
    "\n",
    "    def backward(self, inputs, expected_output, learning_rate):\n",
    "        # Calculate error\n",
    "        output_error = expected_output - self.output\n",
    "        output_delta = output_error * sigmoid_derivative(self.output)\n",
    "\n",
    "        hidden2_error = output_delta.dot(self.weights_hidden2_output.T)\n",
    "        hidden2_delta = hidden2_error * sigmoid_derivative(self.hidden2_output)\n",
    "\n",
    "        hidden1_error = hidden2_delta.dot(self.weights_hidden1_hidden2.T)\n",
    "        hidden1_delta = hidden1_error * sigmoid_derivative(self.hidden1_output)\n",
    "\n",
    "        # Update weights and biases\n",
    "        self.weights_hidden2_output += self.hidden2_output.T.dot(output_delta) * learning_rate\n",
    "        self.bias_output += np.sum(output_delta, axis=0) * learning_rate\n",
    "        self.weights_hidden1_hidden2 += self.hidden1_output.T.dot(hidden2_delta) * learning_rate\n",
    "        self.bias_hidden2 += np.sum(hidden2_delta, axis=0) * learning_rate\n",
    "        self.weights_input_hidden1 += inputs.T.dot(hidden1_delta) * learning_rate\n",
    "        self.bias_hidden1 += np.sum(hidden1_delta, axis=0) * learning_rate\n",
    "\n",
    "        # Return the error for plotting\n",
    "        return np.sum(output_error**2) / len(inputs)\n",
    "\n",
    "    def train(self, inputs, expected_output, iterations, learning_rate):\n",
    "        errors = []\n",
    "        for i in range(iterations):\n",
    "            self.forward(inputs)\n",
    "            error = self.backward(inputs, expected_output, learning_rate)\n",
    "            errors.append(error)\n",
    "        return errors\n"
   ]
  },
  {
   "cell_type": "code",
   "execution_count": 49,
   "metadata": {},
   "outputs": [],
   "source": [
    "def read_data(file_path):\n",
    "    with open(file_path, 'r') as file:\n",
    "        data = [line.strip().split() for line in file.readlines()]\n",
    "    return np.array(data, dtype=float)"
   ]
  },
  {
   "cell_type": "code",
   "execution_count": 50,
   "metadata": {},
   "outputs": [],
   "source": [
    "inputs = read_data('input.txt')\n",
    "expected_output = read_data('output.txt')\n",
    "expected_output = expected_output.reshape(-1, 2)  # Adjust this based on your output size\n",
    "\n",
    "# expected_output = expected_output.reshape(-1, 1)"
   ]
  },
  {
   "cell_type": "code",
   "execution_count": 51,
   "metadata": {},
   "outputs": [],
   "source": [
    "# Example usage\n",
    "if __name__ == \"__main__\":\n",
    "\n",
    "    # Create neural network\n",
    "    nn = NeuralNetwork(input_size=2500, hidden1_size=200, hidden2_size=100, output_size=2)\n",
    "    \n",
    "\n",
    "    # Train the neural network and get the error values\n",
    "    errors = nn.train(inputs, expected_output, iterations=1000, learning_rate=0.01)\n",
    "\n",
    "    # Plot the error values / uncomment to see the plot\n",
    "\n",
    "    # plt.plot(errors)\n",
    "    # plt.xlabel('Iterations')\n",
    "    # plt.ylabel('Error')\n",
    "    # plt.title('Training Error over Iterations')\n",
    "    # plt.show()\n"
   ]
  },
  {
   "cell_type": "code",
   "execution_count": 54,
   "metadata": {},
   "outputs": [],
   "source": [
    "test= read_data('test.txt')"
   ]
  },
  {
   "cell_type": "code",
   "execution_count": 55,
   "metadata": {},
   "outputs": [
    {
     "name": "stdout",
     "output_type": "stream",
     "text": [
      "Predicted Output:\n",
      "Circle: 99.11%, Square: 0.89%\n"
     ]
    }
   ],
   "source": [
    "print(\"Predicted Output:\")\n",
    "res=nn.forward(test)\n",
    "for i in range(len(res)):\n",
    "    sum=res[i][0]+res[i][1]\n",
    "    print(f\"Circle: {(res[i][0]/sum)*100:.2f}%, Square: {(res[i][1]/sum)*100:.2f}%\")\n",
    "# print(res)"
   ]
  }
 ],
 "metadata": {
  "kernelspec": {
   "display_name": "Python 3",
   "language": "python",
   "name": "python3"
  },
  "language_info": {
   "codemirror_mode": {
    "name": "ipython",
    "version": 3
   },
   "file_extension": ".py",
   "mimetype": "text/x-python",
   "name": "python",
   "nbconvert_exporter": "python",
   "pygments_lexer": "ipython3",
   "version": "3.12.5"
  }
 },
 "nbformat": 4,
 "nbformat_minor": 2
}
