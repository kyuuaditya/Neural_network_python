{
 "cells": [
  {
   "cell_type": "code",
   "execution_count": 1,
   "metadata": {},
   "outputs": [],
   "source": [
    "import numpy as np\n",
    "import matplotlib.pyplot as plt\n",
    "import sys"
   ]
  },
  {
   "cell_type": "code",
   "execution_count": 2,
   "metadata": {},
   "outputs": [],
   "source": [
    "# Activation function: Sigmoid with clipping to prevent overflow\n",
    "def sigmoid(x):\n",
    "    return 1 / (1 + np.exp(-np.clip(x, -500, 500)))\n",
    "\n",
    "# Derivative of Sigmoid\n",
    "def sigmoid_derivative(x):\n",
    "    return x * (1 - x)\n",
    "\n",
    "# Neural Network class with 2 hidden layers\n",
    "class NeuralNetwork:\n",
    "    def __init__(self, input_size, hidden1_size, hidden2_size, output_size):\n",
    "        # Initialize weights and biases\n",
    "        self.weights_input_hidden1 = 2 * np.random.rand(input_size, hidden1_size) - 1\n",
    "        self.bias_hidden1 = 2 * np.random.rand(hidden1_size) - 1\n",
    "        self.weights_hidden1_hidden2 = 2 * np.random.rand(hidden1_size, hidden2_size) - 1\n",
    "        self.bias_hidden2 = 2 * np.random.rand(hidden2_size) - 1\n",
    "        self.weights_hidden2_output = 2 * np.random.rand(hidden2_size, output_size) - 1\n",
    "        self.bias_output = 2 * np.random.rand(output_size) - 1\n",
    "\n",
    "    def forward(self, inputs):\n",
    "        # Forward propagation\n",
    "        self.hidden1_input = np.dot(inputs, self.weights_input_hidden1) + self.bias_hidden1\n",
    "        self.hidden1_output = sigmoid(self.hidden1_input)\n",
    "        self.hidden2_input = np.dot(self.hidden1_output, self.weights_hidden1_hidden2) + self.bias_hidden2\n",
    "        self.hidden2_output = sigmoid(self.hidden2_input)\n",
    "        self.output_layer_input = np.dot(self.hidden2_output, self.weights_hidden2_output) + self.bias_output\n",
    "        self.output = sigmoid(self.output_layer_input)\n",
    "        return self.output\n",
    "\n",
    "    def backward(self, inputs, expected_output, learning_rate):\n",
    "        # Calculate error\n",
    "        output_error = expected_output - self.output\n",
    "        output_delta = output_error * sigmoid_derivative(self.output)\n",
    "\n",
    "        hidden2_error = output_delta.dot(self.weights_hidden2_output.T)\n",
    "        hidden2_delta = hidden2_error * sigmoid_derivative(self.hidden2_output)\n",
    "\n",
    "        hidden1_error = hidden2_delta.dot(self.weights_hidden1_hidden2.T)\n",
    "        hidden1_delta = hidden1_error * sigmoid_derivative(self.hidden1_output)\n",
    "\n",
    "        # Update weights and biases\n",
    "        self.weights_hidden2_output += self.hidden2_output.T.dot(output_delta) * learning_rate\n",
    "        self.bias_output += np.sum(output_delta, axis=0) * learning_rate\n",
    "        self.weights_hidden1_hidden2 += self.hidden1_output.T.dot(hidden2_delta) * learning_rate\n",
    "        self.bias_hidden2 += np.sum(hidden2_delta, axis=0) * learning_rate\n",
    "        self.weights_input_hidden1 += inputs.T.dot(hidden1_delta) * learning_rate\n",
    "        self.bias_hidden1 += np.sum(hidden1_delta, axis=0) * learning_rate\n",
    "\n",
    "        # Return the error for plotting\n",
    "        return np.sum(output_error**2) / len(inputs)\n",
    "\n",
    "    def train(self, inputs, expected_output, iterations, learning_rate):\n",
    "        errors = []\n",
    "        for i in range(iterations):\n",
    "            self.forward(inputs)\n",
    "            error = self.backward(inputs, expected_output, learning_rate)\n",
    "            errors.append(error)\n",
    "            # if i==iterations\n",
    "        print(error)\n",
    "        return errors\n",
    "    \n",
    "    def export_weights_biases(self, file_path):\n",
    "        with open(file_path, 'w') as f:\n",
    "            f.write(f\"W1:\\n{self.weights_input_hidden1}\\n\\n\")\n",
    "            f.write(f\"b1:\\n{self.bias_hidden1}\\n\\n\")\n",
    "            f.write(f\"W2:\\n{self.weights_hidden1_hidden2}\\n\\n\")\n",
    "            f.write(f\"b2:\\n{self.bias_hidden2}\\n\\n\")\n",
    "            f.write(f\"W3:\\n{self.weights_hidden2_output}\\n\\n\")\n",
    "            f.write(f\"b3:\\n{self.bias_output}\\n\\n\")"
   ]
  },
  {
   "cell_type": "code",
   "execution_count": 3,
   "metadata": {},
   "outputs": [],
   "source": [
    "def read_data(file_path):\n",
    "    with open(file_path, 'r') as file:\n",
    "        data = [line.strip().split() for line in file.readlines()]\n",
    "    return np.array(data, dtype=float)"
   ]
  },
  {
   "cell_type": "code",
   "execution_count": 4,
   "metadata": {},
   "outputs": [],
   "source": [
    "inputs = read_data('input.txt')\n",
    "expected_output = read_data('output.txt')\n",
    "expected_output = expected_output.reshape(-1, 10)  # Adjust this based on your output size"
   ]
  },
  {
   "cell_type": "code",
   "execution_count": 5,
   "metadata": {},
   "outputs": [
    {
     "name": "stdout",
     "output_type": "stream",
     "text": [
      "Learnable parameters:  12960\n"
     ]
    }
   ],
   "source": [
    "input_size = 784\n",
    "hidden1_size = 16\n",
    "hidden2_size = 16\n",
    "output_size = 10\n",
    "\n",
    "print(\"Learnable parameters: \",input_size*hidden1_size+hidden1_size*hidden2_size+hidden2_size*output_size )\n",
    "print(len(inputs))"
   ]
  },
  {
   "cell_type": "code",
   "execution_count": 6,
   "metadata": {},
   "outputs": [
    {
     "name": "stdout",
     "output_type": "stream",
     "text": [
      "0.4890022033470846\n"
     ]
    },
    {
     "data": {
      "image/png": "[encoded data removed]",
      "text/plain": [
       "<Figure size 640x480 with 1 Axes>"
      ]
     },
     "metadata": {},
     "output_type": "display_data"
    }
   ],
   "source": [
    "# Example usage\n",
    "if __name__ == \"__main__\":\n",
    "\n",
    "    iterations = 1000\n",
    "    learning_rate=1/(len(inputs))\n",
    "\n",
    "    num_runs = 1\n",
    "    all_errors = []\n",
    "\n",
    "    np.set_printoptions(threshold=sys.maxsize)\n",
    "    np.set_printoptions(precision=4)\n",
    "\n",
    "    for i in range(num_runs):\n",
    "        nn = NeuralNetwork(input_size, hidden1_size, hidden2_size, output_size)\n",
    "        errors = nn.train(inputs, expected_output, iterations, learning_rate)\n",
    "        all_errors.append(errors)\n",
    "\n",
    "        nn.export_weights_biases(f\"weights_biases_run_{i+1}.txt\")\n",
    "\n",
    "    # Plot the error values on a logarithmic scale on the x-axis\n",
    "    for i, errors in enumerate(all_errors):\n",
    "        plt.plot(errors, label=f'Run {i+1}')\n",
    "\n",
    "    # plt.xscale('log')\n",
    "    plt.xlabel('Iterations')\n",
    "    plt.ylabel('Error')\n",
    "    plt.title('Training Error over Iterations')\n",
    "    plt.show()"
   ]
  },
  {
   "cell_type": "code",
   "execution_count": 7,
   "metadata": {},
   "outputs": [
    {
     "name": "stdout",
     "output_type": "stream",
     "text": [
      "0.3472805417452851\n"
     ]
    },
    {
     "data": {
      "image/png": "[encoded data removed]",
      "text/plain": [
       "<Figure size 640x480 with 1 Axes>"
      ]
     },
     "metadata": {},
     "output_type": "display_data"
    }
   ],
   "source": [
    "conti = 1000\n",
    "learning_rate=1/(len(inputs))\n",
    "\n",
    "errors = nn.train(inputs, expected_output, conti, learning_rate)\n",
    "all_errors.append(errors)\n",
    "\n",
    "        # nn.export_weights_biases(f\"weights_biases_run_{i+1}.txt\")\n",
    "\n",
    "    # Plot the error values on a logarithmic scale on the x-axis\n",
    "    # for i, errors in enumerate(all_errors):\n",
    "plt.plot(errors, label=f'Run {i+1}')\n",
    "\n",
    "    # plt.xscale('log')\n",
    "plt.xlabel('Iterations')\n",
    "plt.ylabel('Error')\n",
    "plt.title('Training Error over Iterations')\n",
    "plt.show()"
   ]
  },
  {
   "cell_type": "code",
   "execution_count": 8,
   "metadata": {},
   "outputs": [],
   "source": [
    "nn.export_weights_biases(f\"weights_biases_run_{i+1}.txt\")"
   ]
  },
  {
   "cell_type": "code",
   "execution_count": 9,
   "metadata": {},
   "outputs": [],
   "source": [
    "test= read_data('test.txt')"
   ]
  },
  {
   "cell_type": "code",
   "execution_count": 11,
   "metadata": {},
   "outputs": [
    {
     "name": "stdout",
     "output_type": "stream",
     "text": [
      "Predicted: 9 Actual: 9\n",
      "Predicted: 9 Actual: 9\n",
      "Predicted: 7 Actual: 9\n",
      "Predicted: 9 Actual: 9\n",
      "Predicted: 9 Actual: 9\n",
      "Predicted: 9 Actual: 9\n",
      "Predicted: 9 Actual: 9\n",
      "Predicted: 9 Actual: 9\n",
      "Predicted: 9 Actual: 9\n",
      "Predicted: 9 Actual: 9\n",
      "Predicted: 9 Actual: 9\n",
      "Predicted: 9 Actual: 9\n",
      "Predicted: 9 Actual: 9\n",
      "Predicted: 9 Actual: 9\n",
      "Predicted: 9 Actual: 9\n",
      "Predicted: 9 Actual: 9\n",
      "Predicted: 9 Actual: 9\n",
      "Predicted: 2 Actual: 9\n",
      "Predicted: 9 Actual: 9\n",
      "Predicted: 4 Actual: 9\n",
      "Predicted: 9 Actual: 9\n",
      "Predicted: 4 Actual: 9\n",
      "Predicted: 4 Actual: 9\n",
      "Predicted: 9 Actual: 9\n",
      "Predicted: 9 Actual: 9\n",
      "Predicted: 9 Actual: 9\n",
      "Predicted: 6 Actual: 9\n",
      "Predicted: 4 Actual: 9\n",
      "Predicted: 2 Actual: 9\n",
      "Predicted: 9 Actual: 9\n",
      "Predicted: 9 Actual: 9\n",
      "Predicted: 4 Actual: 9\n",
      "Predicted: 9 Actual: 9\n",
      "Predicted: 4 Actual: 9\n",
      "Predicted: 9 Actual: 9\n",
      "Predicted: 9 Actual: 9\n",
      "Predicted: 9 Actual: 9\n",
      "Predicted: 9 Actual: 9\n",
      "Predicted: 9 Actual: 9\n",
      "Predicted: 4 Actual: 9\n",
      "Predicted: 9 Actual: 9\n",
      "Predicted: 4 Actual: 9\n",
      "Predicted: 9 Actual: 9\n",
      "Predicted: 9 Actual: 9\n",
      "Predicted: 9 Actual: 9\n",
      "Predicted: 3 Actual: 9\n",
      "Predicted: 9 Actual: 9\n",
      "Predicted: 9 Actual: 9\n",
      "Predicted: 9 Actual: 9\n",
      "Predicted: 9 Actual: 9\n",
      "Predicted: 4 Actual: 9\n",
      "Predicted: 8 Actual: 9\n",
      "Predicted: 9 Actual: 9\n",
      "Predicted: 9 Actual: 9\n",
      "Predicted: 9 Actual: 9\n",
      "Predicted: 9 Actual: 9\n",
      "Predicted: 9 Actual: 9\n",
      "Predicted: 9 Actual: 9\n",
      "Predicted: 9 Actual: 9\n",
      "Predicted: 9 Actual: 9\n",
      "Predicted: 9 Actual: 9\n",
      "Predicted: 1 Actual: 9\n",
      "Predicted: 1 Actual: 9\n",
      "Predicted: 9 Actual: 9\n",
      "Predicted: 9 Actual: 9\n",
      "Predicted: 9 Actual: 9\n",
      "Predicted: 6 Actual: 9\n",
      "Predicted: 9 Actual: 9\n",
      "Predicted: 9 Actual: 9\n",
      "Predicted: 9 Actual: 9\n",
      "Predicted: 9 Actual: 9\n",
      "Predicted: 2 Actual: 9\n",
      "Predicted: 9 Actual: 9\n",
      "Predicted: 9 Actual: 9\n",
      "Predicted: 9 Actual: 9\n",
      "Predicted: 9 Actual: 9\n",
      "Predicted: 4 Actual: 9\n",
      "Predicted: 9 Actual: 9\n",
      "Predicted: 9 Actual: 9\n",
      "Predicted: 4 Actual: 9\n",
      "Predicted: 1 Actual: 9\n",
      "Predicted: 8 Actual: 9\n",
      "Predicted: 9 Actual: 9\n",
      "Predicted: 4 Actual: 9\n",
      "Predicted: 4 Actual: 9\n",
      "Predicted: 9 Actual: 9\n",
      "Predicted: 9 Actual: 9\n",
      "Predicted: 4 Actual: 9\n",
      "Predicted: 9 Actual: 9\n",
      "Predicted: 9 Actual: 9\n",
      "Predicted: 9 Actual: 9\n",
      "Predicted: 9 Actual: 9\n",
      "Predicted: 4 Actual: 9\n",
      "Predicted: 9 Actual: 9\n",
      "Predicted: 7 Actual: 9\n",
      "Predicted: 9 Actual: 9\n",
      "Predicted: 7 Actual: 9\n",
      "Predicted: 9 Actual: 9\n",
      "Predicted: 5 Actual: 9\n",
      "Predicted: 4 Actual: 9\n",
      "Train Accuracy: 69.00%\n"
     ]
    }
   ],
   "source": [
    "# print(\"Predicted Output:\")\n",
    "res=nn.forward(test)\n",
    "accuracy=0\n",
    "# for i in range(len(res)):\n",
    "#     sum=res[i][0]+res[i][1]+res[i][2]+res[i][3]+res[i][4]+res[i][5]+res[i][6]+res[i][7]+res[i][8]+res[i][9]\n",
    "#     print(f\"0: {(res[i][0]/sum)*100:.2f}%, 1: {(res[i][1]/sum)*100:.2f}%, 2: {(res[i][2]/sum)*100:.2f}%, 3: {(res[i][3]/sum)*100:.2f}%, 4: {(res[i][4]/sum)*100:.2f}%, 5: {(res[i][5]/sum)*100:.2f}%, 6: {(res[i][6]/sum)*100:.2f}%, 7: {(res[i][7]/sum)*100:.2f}%, 8: {(res[i][8]/sum)*100:.2f}%, 9: {(res[i][9]/sum)*100:.2f}%\")\n",
    "# num=0\n",
    "for i in range(len(res)):\n",
    "    print(f\"Predicted: {np.argmax(res[i])} Actual: 9\")\n",
    "    # if i%100==0:\n",
    "    #     num+=1\n",
    "    accuracy+=np.argmax(res[i])==9\n",
    "print(f\"Train Accuracy: {accuracy/len(res)*100:.2f}%\")"
   ]
  }
 ],
 "metadata": {
  "kernelspec": {
   "display_name": "Python 3",
   "language": "python",
   "name": "python3"
  },
  "language_info": {
   "codemirror_mode": {
    "name": "ipython",
    "version": 3
   },
   "file_extension": ".py",
   "mimetype": "text/x-python",
   "name": "python",
   "nbconvert_exporter": "python",
   "pygments_lexer": "ipython3",
   "version": "3.12.5"
  }
 },
 "nbformat": 4,
 "nbformat_minor": 2
}
